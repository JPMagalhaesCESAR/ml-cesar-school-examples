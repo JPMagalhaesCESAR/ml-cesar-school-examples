{
 "cells": [
  {
   "cell_type": "markdown",
   "metadata": {},
   "source": [
    "# Decision Trees and Random Forests example using the wine database\n",
    "The problem in this base is identify the wine productor based on wine features"
   ]
  },
  {
   "cell_type": "code",
   "execution_count": 1,
   "metadata": {},
   "outputs": [],
   "source": [
    "import numpy as np  \n",
    "import matplotlib.pyplot as plt"
   ]
  },
  {
   "cell_type": "markdown",
   "metadata": {},
   "source": [
    "## Load the dataset and convert it to pandas data frame"
   ]
  },
  {
   "cell_type": "code",
   "execution_count": 2,
   "metadata": {},
   "outputs": [
    {
     "name": "stderr",
     "output_type": "stream",
     "text": [
      "/Users/jpm/.pyenv/versions/3.8.0/lib/python3.8/site-packages/pandas/compat/__init__.py:97: UserWarning: Could not import the lzma module. Your installed Python is incomplete. Attempting to use lzma compression will result in a RuntimeError.\n",
      "  warnings.warn(msg)\n"
     ]
    },
    {
     "name": "stdout",
     "output_type": "stream",
     "text": [
      "<class 'pandas.core.frame.DataFrame'>\n",
      "RangeIndex: 178 entries, 0 to 177\n",
      "Data columns (total 14 columns):\n",
      " #   Column                        Non-Null Count  Dtype  \n",
      "---  ------                        --------------  -----  \n",
      " 0   alcohol                       178 non-null    float64\n",
      " 1   malic_acid                    178 non-null    float64\n",
      " 2   ash                           178 non-null    float64\n",
      " 3   alcalinity_of_ash             178 non-null    float64\n",
      " 4   magnesium                     178 non-null    float64\n",
      " 5   total_phenols                 178 non-null    float64\n",
      " 6   flavanoids                    178 non-null    float64\n",
      " 7   nonflavanoid_phenols          178 non-null    float64\n",
      " 8   proanthocyanins               178 non-null    float64\n",
      " 9   color_intensity               178 non-null    float64\n",
      " 10  hue                           178 non-null    float64\n",
      " 11  od280/od315_of_diluted_wines  178 non-null    float64\n",
      " 12  proline                       178 non-null    float64\n",
      " 13  target                        178 non-null    float64\n",
      "dtypes: float64(14)\n",
      "memory usage: 19.6 KB\n"
     ]
    },
    {
     "data": {
      "text/html": [
       "<div>\n",
       "<style scoped>\n",
       "    .dataframe tbody tr th:only-of-type {\n",
       "        vertical-align: middle;\n",
       "    }\n",
       "\n",
       "    .dataframe tbody tr th {\n",
       "        vertical-align: top;\n",
       "    }\n",
       "\n",
       "    .dataframe thead th {\n",
       "        text-align: right;\n",
       "    }\n",
       "</style>\n",
       "<table border=\"1\" class=\"dataframe\">\n",
       "  <thead>\n",
       "    <tr style=\"text-align: right;\">\n",
       "      <th></th>\n",
       "      <th>alcohol</th>\n",
       "      <th>malic_acid</th>\n",
       "      <th>ash</th>\n",
       "      <th>alcalinity_of_ash</th>\n",
       "      <th>magnesium</th>\n",
       "      <th>total_phenols</th>\n",
       "      <th>flavanoids</th>\n",
       "      <th>nonflavanoid_phenols</th>\n",
       "      <th>proanthocyanins</th>\n",
       "      <th>color_intensity</th>\n",
       "      <th>hue</th>\n",
       "      <th>od280/od315_of_diluted_wines</th>\n",
       "      <th>proline</th>\n",
       "      <th>target</th>\n",
       "    </tr>\n",
       "  </thead>\n",
       "  <tbody>\n",
       "    <tr>\n",
       "      <th>0</th>\n",
       "      <td>14.23</td>\n",
       "      <td>1.71</td>\n",
       "      <td>2.43</td>\n",
       "      <td>15.6</td>\n",
       "      <td>127.0</td>\n",
       "      <td>2.80</td>\n",
       "      <td>3.06</td>\n",
       "      <td>0.28</td>\n",
       "      <td>2.29</td>\n",
       "      <td>5.64</td>\n",
       "      <td>1.04</td>\n",
       "      <td>3.92</td>\n",
       "      <td>1065.0</td>\n",
       "      <td>0.0</td>\n",
       "    </tr>\n",
       "    <tr>\n",
       "      <th>1</th>\n",
       "      <td>13.20</td>\n",
       "      <td>1.78</td>\n",
       "      <td>2.14</td>\n",
       "      <td>11.2</td>\n",
       "      <td>100.0</td>\n",
       "      <td>2.65</td>\n",
       "      <td>2.76</td>\n",
       "      <td>0.26</td>\n",
       "      <td>1.28</td>\n",
       "      <td>4.38</td>\n",
       "      <td>1.05</td>\n",
       "      <td>3.40</td>\n",
       "      <td>1050.0</td>\n",
       "      <td>0.0</td>\n",
       "    </tr>\n",
       "    <tr>\n",
       "      <th>2</th>\n",
       "      <td>13.16</td>\n",
       "      <td>2.36</td>\n",
       "      <td>2.67</td>\n",
       "      <td>18.6</td>\n",
       "      <td>101.0</td>\n",
       "      <td>2.80</td>\n",
       "      <td>3.24</td>\n",
       "      <td>0.30</td>\n",
       "      <td>2.81</td>\n",
       "      <td>5.68</td>\n",
       "      <td>1.03</td>\n",
       "      <td>3.17</td>\n",
       "      <td>1185.0</td>\n",
       "      <td>0.0</td>\n",
       "    </tr>\n",
       "    <tr>\n",
       "      <th>3</th>\n",
       "      <td>14.37</td>\n",
       "      <td>1.95</td>\n",
       "      <td>2.50</td>\n",
       "      <td>16.8</td>\n",
       "      <td>113.0</td>\n",
       "      <td>3.85</td>\n",
       "      <td>3.49</td>\n",
       "      <td>0.24</td>\n",
       "      <td>2.18</td>\n",
       "      <td>7.80</td>\n",
       "      <td>0.86</td>\n",
       "      <td>3.45</td>\n",
       "      <td>1480.0</td>\n",
       "      <td>0.0</td>\n",
       "    </tr>\n",
       "    <tr>\n",
       "      <th>4</th>\n",
       "      <td>13.24</td>\n",
       "      <td>2.59</td>\n",
       "      <td>2.87</td>\n",
       "      <td>21.0</td>\n",
       "      <td>118.0</td>\n",
       "      <td>2.80</td>\n",
       "      <td>2.69</td>\n",
       "      <td>0.39</td>\n",
       "      <td>1.82</td>\n",
       "      <td>4.32</td>\n",
       "      <td>1.04</td>\n",
       "      <td>2.93</td>\n",
       "      <td>735.0</td>\n",
       "      <td>0.0</td>\n",
       "    </tr>\n",
       "  </tbody>\n",
       "</table>\n",
       "</div>"
      ],
      "text/plain": [
       "   alcohol  malic_acid   ash  alcalinity_of_ash  magnesium  total_phenols  \\\n",
       "0    14.23        1.71  2.43               15.6      127.0           2.80   \n",
       "1    13.20        1.78  2.14               11.2      100.0           2.65   \n",
       "2    13.16        2.36  2.67               18.6      101.0           2.80   \n",
       "3    14.37        1.95  2.50               16.8      113.0           3.85   \n",
       "4    13.24        2.59  2.87               21.0      118.0           2.80   \n",
       "\n",
       "   flavanoids  nonflavanoid_phenols  proanthocyanins  color_intensity   hue  \\\n",
       "0        3.06                  0.28             2.29             5.64  1.04   \n",
       "1        2.76                  0.26             1.28             4.38  1.05   \n",
       "2        3.24                  0.30             2.81             5.68  1.03   \n",
       "3        3.49                  0.24             2.18             7.80  0.86   \n",
       "4        2.69                  0.39             1.82             4.32  1.04   \n",
       "\n",
       "   od280/od315_of_diluted_wines  proline  target  \n",
       "0                          3.92   1065.0     0.0  \n",
       "1                          3.40   1050.0     0.0  \n",
       "2                          3.17   1185.0     0.0  \n",
       "3                          3.45   1480.0     0.0  \n",
       "4                          2.93    735.0     0.0  "
      ]
     },
     "execution_count": 2,
     "metadata": {},
     "output_type": "execute_result"
    }
   ],
   "source": [
    "from sklearn import datasets\n",
    "import pandas as pd\n",
    "\n",
    "data = datasets.load_wine()\n",
    "# convert sklearn dataset to pandas data frame\n",
    "wine = pd.DataFrame(data= np.c_[data['data'], data['target']],\n",
    "                     columns= data['feature_names'] + ['target'])\n",
    "\n",
    "wine.info()\n",
    "wine.head()"
   ]
  },
  {
   "cell_type": "code",
   "execution_count": 3,
   "metadata": {},
   "outputs": [
    {
     "data": {
      "text/html": [
       "<div>\n",
       "<style scoped>\n",
       "    .dataframe tbody tr th:only-of-type {\n",
       "        vertical-align: middle;\n",
       "    }\n",
       "\n",
       "    .dataframe tbody tr th {\n",
       "        vertical-align: top;\n",
       "    }\n",
       "\n",
       "    .dataframe thead th {\n",
       "        text-align: right;\n",
       "    }\n",
       "</style>\n",
       "<table border=\"1\" class=\"dataframe\">\n",
       "  <thead>\n",
       "    <tr style=\"text-align: right;\">\n",
       "      <th></th>\n",
       "      <th>alcohol</th>\n",
       "      <th>malic_acid</th>\n",
       "      <th>ash</th>\n",
       "      <th>alcalinity_of_ash</th>\n",
       "      <th>magnesium</th>\n",
       "      <th>total_phenols</th>\n",
       "      <th>flavanoids</th>\n",
       "      <th>nonflavanoid_phenols</th>\n",
       "      <th>proanthocyanins</th>\n",
       "      <th>color_intensity</th>\n",
       "      <th>hue</th>\n",
       "      <th>od280/od315_of_diluted_wines</th>\n",
       "      <th>proline</th>\n",
       "      <th>target</th>\n",
       "    </tr>\n",
       "  </thead>\n",
       "  <tbody>\n",
       "    <tr>\n",
       "      <th>count</th>\n",
       "      <td>178.000000</td>\n",
       "      <td>178.000000</td>\n",
       "      <td>178.000000</td>\n",
       "      <td>178.000000</td>\n",
       "      <td>178.000000</td>\n",
       "      <td>178.000000</td>\n",
       "      <td>178.000000</td>\n",
       "      <td>178.000000</td>\n",
       "      <td>178.000000</td>\n",
       "      <td>178.000000</td>\n",
       "      <td>178.000000</td>\n",
       "      <td>178.000000</td>\n",
       "      <td>178.000000</td>\n",
       "      <td>178.000000</td>\n",
       "    </tr>\n",
       "    <tr>\n",
       "      <th>mean</th>\n",
       "      <td>13.000618</td>\n",
       "      <td>2.336348</td>\n",
       "      <td>2.366517</td>\n",
       "      <td>19.494944</td>\n",
       "      <td>99.741573</td>\n",
       "      <td>2.295112</td>\n",
       "      <td>2.029270</td>\n",
       "      <td>0.361854</td>\n",
       "      <td>1.590899</td>\n",
       "      <td>5.058090</td>\n",
       "      <td>0.957449</td>\n",
       "      <td>2.611685</td>\n",
       "      <td>746.893258</td>\n",
       "      <td>0.938202</td>\n",
       "    </tr>\n",
       "    <tr>\n",
       "      <th>std</th>\n",
       "      <td>0.811827</td>\n",
       "      <td>1.117146</td>\n",
       "      <td>0.274344</td>\n",
       "      <td>3.339564</td>\n",
       "      <td>14.282484</td>\n",
       "      <td>0.625851</td>\n",
       "      <td>0.998859</td>\n",
       "      <td>0.124453</td>\n",
       "      <td>0.572359</td>\n",
       "      <td>2.318286</td>\n",
       "      <td>0.228572</td>\n",
       "      <td>0.709990</td>\n",
       "      <td>314.907474</td>\n",
       "      <td>0.775035</td>\n",
       "    </tr>\n",
       "    <tr>\n",
       "      <th>min</th>\n",
       "      <td>11.030000</td>\n",
       "      <td>0.740000</td>\n",
       "      <td>1.360000</td>\n",
       "      <td>10.600000</td>\n",
       "      <td>70.000000</td>\n",
       "      <td>0.980000</td>\n",
       "      <td>0.340000</td>\n",
       "      <td>0.130000</td>\n",
       "      <td>0.410000</td>\n",
       "      <td>1.280000</td>\n",
       "      <td>0.480000</td>\n",
       "      <td>1.270000</td>\n",
       "      <td>278.000000</td>\n",
       "      <td>0.000000</td>\n",
       "    </tr>\n",
       "    <tr>\n",
       "      <th>25%</th>\n",
       "      <td>12.362500</td>\n",
       "      <td>1.602500</td>\n",
       "      <td>2.210000</td>\n",
       "      <td>17.200000</td>\n",
       "      <td>88.000000</td>\n",
       "      <td>1.742500</td>\n",
       "      <td>1.205000</td>\n",
       "      <td>0.270000</td>\n",
       "      <td>1.250000</td>\n",
       "      <td>3.220000</td>\n",
       "      <td>0.782500</td>\n",
       "      <td>1.937500</td>\n",
       "      <td>500.500000</td>\n",
       "      <td>0.000000</td>\n",
       "    </tr>\n",
       "    <tr>\n",
       "      <th>50%</th>\n",
       "      <td>13.050000</td>\n",
       "      <td>1.865000</td>\n",
       "      <td>2.360000</td>\n",
       "      <td>19.500000</td>\n",
       "      <td>98.000000</td>\n",
       "      <td>2.355000</td>\n",
       "      <td>2.135000</td>\n",
       "      <td>0.340000</td>\n",
       "      <td>1.555000</td>\n",
       "      <td>4.690000</td>\n",
       "      <td>0.965000</td>\n",
       "      <td>2.780000</td>\n",
       "      <td>673.500000</td>\n",
       "      <td>1.000000</td>\n",
       "    </tr>\n",
       "    <tr>\n",
       "      <th>75%</th>\n",
       "      <td>13.677500</td>\n",
       "      <td>3.082500</td>\n",
       "      <td>2.557500</td>\n",
       "      <td>21.500000</td>\n",
       "      <td>107.000000</td>\n",
       "      <td>2.800000</td>\n",
       "      <td>2.875000</td>\n",
       "      <td>0.437500</td>\n",
       "      <td>1.950000</td>\n",
       "      <td>6.200000</td>\n",
       "      <td>1.120000</td>\n",
       "      <td>3.170000</td>\n",
       "      <td>985.000000</td>\n",
       "      <td>2.000000</td>\n",
       "    </tr>\n",
       "    <tr>\n",
       "      <th>max</th>\n",
       "      <td>14.830000</td>\n",
       "      <td>5.800000</td>\n",
       "      <td>3.230000</td>\n",
       "      <td>30.000000</td>\n",
       "      <td>162.000000</td>\n",
       "      <td>3.880000</td>\n",
       "      <td>5.080000</td>\n",
       "      <td>0.660000</td>\n",
       "      <td>3.580000</td>\n",
       "      <td>13.000000</td>\n",
       "      <td>1.710000</td>\n",
       "      <td>4.000000</td>\n",
       "      <td>1680.000000</td>\n",
       "      <td>2.000000</td>\n",
       "    </tr>\n",
       "  </tbody>\n",
       "</table>\n",
       "</div>"
      ],
      "text/plain": [
       "          alcohol  malic_acid         ash  alcalinity_of_ash   magnesium  \\\n",
       "count  178.000000  178.000000  178.000000         178.000000  178.000000   \n",
       "mean    13.000618    2.336348    2.366517          19.494944   99.741573   \n",
       "std      0.811827    1.117146    0.274344           3.339564   14.282484   \n",
       "min     11.030000    0.740000    1.360000          10.600000   70.000000   \n",
       "25%     12.362500    1.602500    2.210000          17.200000   88.000000   \n",
       "50%     13.050000    1.865000    2.360000          19.500000   98.000000   \n",
       "75%     13.677500    3.082500    2.557500          21.500000  107.000000   \n",
       "max     14.830000    5.800000    3.230000          30.000000  162.000000   \n",
       "\n",
       "       total_phenols  flavanoids  nonflavanoid_phenols  proanthocyanins  \\\n",
       "count     178.000000  178.000000            178.000000       178.000000   \n",
       "mean        2.295112    2.029270              0.361854         1.590899   \n",
       "std         0.625851    0.998859              0.124453         0.572359   \n",
       "min         0.980000    0.340000              0.130000         0.410000   \n",
       "25%         1.742500    1.205000              0.270000         1.250000   \n",
       "50%         2.355000    2.135000              0.340000         1.555000   \n",
       "75%         2.800000    2.875000              0.437500         1.950000   \n",
       "max         3.880000    5.080000              0.660000         3.580000   \n",
       "\n",
       "       color_intensity         hue  od280/od315_of_diluted_wines      proline  \\\n",
       "count       178.000000  178.000000                    178.000000   178.000000   \n",
       "mean          5.058090    0.957449                      2.611685   746.893258   \n",
       "std           2.318286    0.228572                      0.709990   314.907474   \n",
       "min           1.280000    0.480000                      1.270000   278.000000   \n",
       "25%           3.220000    0.782500                      1.937500   500.500000   \n",
       "50%           4.690000    0.965000                      2.780000   673.500000   \n",
       "75%           6.200000    1.120000                      3.170000   985.000000   \n",
       "max          13.000000    1.710000                      4.000000  1680.000000   \n",
       "\n",
       "           target  \n",
       "count  178.000000  \n",
       "mean     0.938202  \n",
       "std      0.775035  \n",
       "min      0.000000  \n",
       "25%      0.000000  \n",
       "50%      1.000000  \n",
       "75%      2.000000  \n",
       "max      2.000000  "
      ]
     },
     "execution_count": 3,
     "metadata": {},
     "output_type": "execute_result"
    }
   ],
   "source": [
    "wine.describe()"
   ]
  },
  {
   "cell_type": "markdown",
   "metadata": {},
   "source": [
    "## Split the dataset\n",
    "First into input features (X) and output (y) and then into train and test sets with size 0.7/0.3"
   ]
  },
  {
   "cell_type": "code",
   "execution_count": 4,
   "metadata": {},
   "outputs": [],
   "source": [
    "from sklearn.model_selection import train_test_split\n",
    "\n",
    "X = wine.drop('target', axis=1)\n",
    "y = wine['target']\n",
    "X_train, X_test, y_train, y_test = train_test_split(X, y, test_size=0.3)"
   ]
  },
  {
   "cell_type": "markdown",
   "metadata": {},
   "source": [
    "## Create and train the Decision Tree Classifier"
   ]
  },
  {
   "cell_type": "code",
   "execution_count": 5,
   "metadata": {
    "scrolled": true
   },
   "outputs": [
    {
     "data": {
      "text/plain": [
       "DecisionTreeClassifier(ccp_alpha=0.0, class_weight=None, criterion='gini',\n",
       "                       max_depth=None, max_features=None, max_leaf_nodes=None,\n",
       "                       min_impurity_decrease=0.0, min_impurity_split=None,\n",
       "                       min_samples_leaf=1, min_samples_split=2,\n",
       "                       min_weight_fraction_leaf=0.0, presort='deprecated',\n",
       "                       random_state=None, splitter='best')"
      ]
     },
     "execution_count": 5,
     "metadata": {},
     "output_type": "execute_result"
    }
   ],
   "source": [
    "from sklearn import tree\n",
    "\n",
    "model = tree.DecisionTreeClassifier()\n",
    "model.fit(X_train, y_train)"
   ]
  },
  {
   "cell_type": "markdown",
   "metadata": {},
   "source": [
    "## Use the model to predict the samples in the train set"
   ]
  },
  {
   "cell_type": "code",
   "execution_count": 15,
   "metadata": {},
   "outputs": [],
   "source": [
    "train_predictions = model.predict(X_train)"
   ]
  },
  {
   "cell_type": "markdown",
   "metadata": {},
   "source": [
    "## Evaluate the model"
   ]
  },
  {
   "cell_type": "code",
   "execution_count": 16,
   "metadata": {},
   "outputs": [
    {
     "name": "stdout",
     "output_type": "stream",
     "text": [
      "              precision    recall  f1-score   support\n",
      "\n",
      "         0.0       1.00      1.00      1.00        46\n",
      "         1.0       1.00      1.00      1.00        46\n",
      "         2.0       1.00      1.00      1.00        32\n",
      "\n",
      "    accuracy                           1.00       124\n",
      "   macro avg       1.00      1.00      1.00       124\n",
      "weighted avg       1.00      1.00      1.00       124\n",
      "\n"
     ]
    }
   ],
   "source": [
    "from sklearn.metrics import classification_report\n",
    "print(classification_report(y_train,train_predictions))"
   ]
  },
  {
   "cell_type": "markdown",
   "metadata": {},
   "source": [
    "## Display the confusion matrix "
   ]
  },
  {
   "cell_type": "code",
   "execution_count": 17,
   "metadata": {},
   "outputs": [
    {
     "data": {
      "text/plain": [
       "<matplotlib.axes._subplots.AxesSubplot at 0x146d16e50>"
      ]
     },
     "execution_count": 17,
     "metadata": {},
     "output_type": "execute_result"
    },
    {
     "data": {
      "image/png": "[encoded data removed]",
      "text/plain": [
       "<Figure size 432x288 with 1 Axes>"
      ]
     },
     "metadata": {
      "needs_background": "light"
     },
     "output_type": "display_data"
    }
   ],
   "source": [
    "import seaborn as sns\n",
    "from sklearn.metrics import classification_report,confusion_matrix\n",
    "\n",
    "cfm = confusion_matrix(y_train,train_predictions)\n",
    "sns.heatmap(cfm, cbar=False, annot=True, cmap=\"Blues\", fmt=\"d\")"
   ]
  },
  {
   "cell_type": "markdown",
   "metadata": {},
   "source": [
    "## Use the model to predict the samples in the test set"
   ]
  },
  {
   "cell_type": "code",
   "execution_count": 6,
   "metadata": {},
   "outputs": [],
   "source": [
    "predictions = model.predict(X_test)"
   ]
  },
  {
   "cell_type": "markdown",
   "metadata": {},
   "source": [
    "## Evaluate the model"
   ]
  },
  {
   "cell_type": "code",
   "execution_count": 7,
   "metadata": {},
   "outputs": [
    {
     "name": "stdout",
     "output_type": "stream",
     "text": [
      "              precision    recall  f1-score   support\n",
      "\n",
      "         0.0       0.91      0.77      0.83        13\n",
      "         1.0       0.86      0.96      0.91        25\n",
      "         2.0       1.00      0.94      0.97        16\n",
      "\n",
      "    accuracy                           0.91        54\n",
      "   macro avg       0.92      0.89      0.90        54\n",
      "weighted avg       0.91      0.91      0.91        54\n",
      "\n"
     ]
    }
   ],
   "source": [
    "from sklearn.metrics import classification_report\n",
    "print(classification_report(y_test,predictions))"
   ]
  },
  {
   "cell_type": "markdown",
   "metadata": {},
   "source": [
    "## Display the confusion matrix "
   ]
  },
  {
   "cell_type": "code",
   "execution_count": 8,
   "metadata": {},
   "outputs": [
    {
     "data": {
      "text/plain": [
       "<matplotlib.axes._subplots.AxesSubplot at 0x14486f430>"
      ]
     },
     "execution_count": 8,
     "metadata": {},
     "output_type": "execute_result"
    },
    {
     "data": {
      "image/png": "[encoded data removed]",
      "text/plain": [
       "<Figure size 432x288 with 1 Axes>"
      ]
     },
     "metadata": {
      "needs_background": "light"
     },
     "output_type": "display_data"
    }
   ],
   "source": [
    "import seaborn as sns\n",
    "from sklearn.metrics import classification_report,confusion_matrix\n",
    "\n",
    "cfm = confusion_matrix(y_test,predictions)\n",
    "sns.heatmap(cfm, cbar=False, annot=True, cmap=\"Blues\", fmt=\"d\")"
   ]
  },
  {
   "cell_type": "markdown",
   "metadata": {},
   "source": [
    "## Let's create an image with the decision tree\n",
    "You'll need some extra libs (IPython and pydot)\n",
    "* Each OS may require other specific installs.\n",
    "Mac OS users for example need to install other dependencies. In my case, installing gprofdot (brew install gprof2dot) was enough."
   ]
  },
  {
   "cell_type": "code",
   "execution_count": 9,
   "metadata": {},
   "outputs": [
    {
     "name": "stderr",
     "output_type": "stream",
     "text": [
      "/Users/jpm/.pyenv/versions/3.8.0/lib/python3.8/site-packages/sklearn/externals/six.py:28: FutureWarning: The module is deprecated in version 0.21 and will be removed in version 0.23 since we've dropped support for Python 2.7. Please rely on the official version of six (https://pypi.org/project/six/).\n",
      "  warnings.warn(\"The module is deprecated in version 0.21 and will be removed \"\n"
     ]
    },
    {
     "data": {
      "image/png": "[encoded data removed]",
      "text/plain": [
       "<IPython.core.display.Image object>"
      ]
     },
     "execution_count": 9,
     "metadata": {},
     "output_type": "execute_result"
    }
   ],
   "source": [
    "from IPython.display import Image  \n",
    "from sklearn.externals.six import StringIO  \n",
    "from sklearn.tree import export_graphviz\n",
    "import pydot \n",
    "\n",
    "features = list(wine.columns[:-1])\n",
    "features\n",
    "\n",
    "dot_data = StringIO()  \n",
    "export_graphviz(model, out_file=dot_data,feature_names=features,filled=True,rounded=True)\n",
    "\n",
    "graph = pydot.graph_from_dot_data(dot_data.getvalue())  \n",
    "img = Image(graph[0].create_png())\n",
    "graph[0].write_png('tree_wine_viz.png')\n",
    "img"
   ]
  },
  {
   "cell_type": "markdown",
   "metadata": {},
   "source": [
    "# Random Forests\n",
    "One tree performed well but lets see if Random Forest can improve the result.\n",
    "## Create a Random Forest with 100 trees\n",
    "Evaluate the result and then display the confusion matrix"
   ]
  },
  {
   "cell_type": "code",
   "execution_count": 10,
   "metadata": {},
   "outputs": [
    {
     "name": "stdout",
     "output_type": "stream",
     "text": [
      "              precision    recall  f1-score   support\n",
      "\n",
      "         0.0       1.00      1.00      1.00        13\n",
      "         1.0       1.00      0.96      0.98        25\n",
      "         2.0       0.94      1.00      0.97        16\n",
      "\n",
      "    accuracy                           0.98        54\n",
      "   macro avg       0.98      0.99      0.98        54\n",
      "weighted avg       0.98      0.98      0.98        54\n",
      "\n"
     ]
    }
   ],
   "source": [
    "from sklearn.ensemble import RandomForestClassifier\n",
    "\n",
    "forest = RandomForestClassifier(n_estimators=100)\n",
    "forest.fit(X_train,y_train)\n",
    "predictions = forest.predict(X_test)\n",
    "print(classification_report(y_test,predictions))"
   ]
  },
  {
   "cell_type": "code",
   "execution_count": 11,
   "metadata": {
    "scrolled": true
   },
   "outputs": [
    {
     "data": {
      "text/plain": [
       "<matplotlib.axes._subplots.AxesSubplot at 0x146cc2340>"
      ]
     },
     "execution_count": 11,
     "metadata": {},
     "output_type": "execute_result"
    },
    {
     "data": {
      "image/png": "[encoded data removed]",
      "text/plain": [
       "<Figure size 432x288 with 1 Axes>"
      ]
     },
     "metadata": {
      "needs_background": "light"
     },
     "output_type": "display_data"
    }
   ],
   "source": [
    "cfm = confusion_matrix(y_test,predictions)\n",
    "sns.heatmap(cfm, cbar=False, annot=True, cmap=\"Blues\", fmt=\"d\")"
   ]
  },
  {
   "cell_type": "markdown",
   "metadata": {},
   "source": [
    "## Lets try using pipeline and search the best parameters using cross-validation \n",
    "### First using GridSearch"
   ]
  },
  {
   "cell_type": "code",
   "execution_count": 47,
   "metadata": {},
   "outputs": [
    {
     "data": {
      "text/plain": [
       "[5, 15, 25, 35, 45, 55, 65, 75, 85, 95]"
      ]
     },
     "execution_count": 47,
     "metadata": {},
     "output_type": "execute_result"
    }
   ],
   "source": [
    "list(range(5,100,10))"
   ]
  },
  {
   "cell_type": "code",
   "execution_count": 33,
   "metadata": {},
   "outputs": [],
   "source": [
    "from sklearn.ensemble import RandomForestClassifier\n",
    "from sklearn.model_selection import GridSearchCV\n",
    "from sklearn.pipeline import Pipeline\n",
    "\n",
    "search_paramns = [{\n",
    "    'forest__n_estimators': list(range(5,100,10)), \n",
    "    'forest__criterion': [\"gini\", \"entropy\"],\n",
    "    'forest__max_features': [\"sqrt\", \"log2\"],\n",
    "}]\n",
    "\n",
    "pipe = Pipeline([\n",
    "    ('forest', RandomForestClassifier())\n",
    "])\n",
    "\n",
    "search = GridSearchCV(estimator=pipe,\n",
    "                     param_grid=search_paramns,\n",
    "                     cv=5,\n",
    "                     return_train_score=True)\n",
    "\n",
    "X_train, X_test, y_train, y_test = train_test_split(X, y, test_size=0.2)"
   ]
  },
  {
   "cell_type": "code",
   "execution_count": 34,
   "metadata": {
    "scrolled": true
   },
   "outputs": [
    {
     "name": "stdout",
     "output_type": "stream",
     "text": [
      "CPU times: user 12.3 s, sys: 50.2 ms, total: 12.4 s\n",
      "Wall time: 12.4 s\n"
     ]
    },
    {
     "data": {
      "text/plain": [
       "{'mean_fit_time': array([0.00824838, 0.01758709, 0.02614136, 0.03664222, 0.0499795 ,\n",
       "        0.06333833, 0.06675272, 0.07853298, 0.08707242, 0.09353504,\n",
       "        0.0059741 , 0.01610003, 0.02520585, 0.03416095, 0.04474268,\n",
       "        0.05415921, 0.06477585, 0.07447886, 0.08307505, 0.0908886 ,\n",
       "        0.00581555, 0.01572576, 0.02617865, 0.03532305, 0.04569678,\n",
       "        0.05474143, 0.07125101, 0.07564836, 0.08863716, 0.10222135,\n",
       "        0.00669842, 0.01814532, 0.0287168 , 0.03910627, 0.04880776,\n",
       "        0.05788608, 0.07341075, 0.08126397, 0.09380937, 0.10480285]),\n",
       " 'std_fit_time': array([7.52386579e-04, 8.71459724e-04, 1.81819117e-03, 2.45652956e-03,\n",
       "        2.59148260e-03, 2.60777542e-03, 2.90549288e-03, 3.64950735e-03,\n",
       "        1.92507708e-03, 2.64080450e-03, 7.71755306e-05, 9.93338117e-04,\n",
       "        4.60468956e-04, 3.79264256e-04, 2.04182313e-03, 1.76600747e-03,\n",
       "        1.11535213e-03, 2.52034723e-03, 2.07634281e-03, 4.04894013e-04,\n",
       "        6.42236814e-05, 4.51787407e-04, 1.66111622e-03, 6.98368507e-04,\n",
       "        1.84563188e-03, 3.66720526e-04, 7.20232191e-03, 1.61119922e-03,\n",
       "        4.29473111e-03, 6.89135708e-03, 2.89563674e-04, 1.40222567e-03,\n",
       "        9.54225059e-04, 6.42789305e-04, 1.84797624e-03, 2.69967310e-03,\n",
       "        4.76284005e-03, 3.35763229e-03, 1.84838595e-03, 3.95651614e-03]),\n",
       " 'mean_score_time': array([0.00151043, 0.00195923, 0.00240722, 0.00312438, 0.00417295,\n",
       "        0.00514359, 0.00508504, 0.0064898 , 0.00650558, 0.00682244,\n",
       "        0.00107889, 0.00186152, 0.0023241 , 0.00294495, 0.00356469,\n",
       "        0.0053688 , 0.00489149, 0.00550447, 0.00671177, 0.00658693,\n",
       "        0.00104427, 0.00193682, 0.00229802, 0.00301704, 0.00370126,\n",
       "        0.00414395, 0.00544372, 0.00603619, 0.00643382, 0.00765781,\n",
       "        0.00108805, 0.00177269, 0.00273333, 0.00348954, 0.00450435,\n",
       "        0.00441751, 0.00594769, 0.00600839, 0.00721498, 0.00748034]),\n",
       " 'std_score_time': array([1.79476870e-04, 1.54264787e-04, 6.08920491e-05, 3.12225623e-04,\n",
       "        3.80173525e-04, 3.63006624e-04, 1.96161407e-04, 1.11568549e-03,\n",
       "        2.77724985e-04, 1.12591704e-04, 7.56347611e-05, 2.69340548e-04,\n",
       "        6.89739634e-05, 1.04722928e-04, 1.65617675e-04, 1.14463397e-03,\n",
       "        9.15236228e-05, 1.82301126e-04, 1.11770859e-03, 1.11998543e-04,\n",
       "        6.66556267e-05, 5.34487760e-04, 9.89063721e-05, 1.64025717e-04,\n",
       "        2.24712737e-04, 1.04680690e-04, 8.47002592e-04, 9.78383222e-04,\n",
       "        5.79749720e-04, 1.00549967e-03, 1.38640763e-05, 6.18874013e-05,\n",
       "        3.13722781e-04, 2.86955412e-04, 9.18407747e-04, 3.34201881e-04,\n",
       "        5.23438433e-04, 5.03655555e-04, 6.20616511e-04, 4.78243005e-04]),\n",
       " 'param_forest__criterion': masked_array(data=['gini', 'gini', 'gini', 'gini', 'gini', 'gini', 'gini',\n",
       "                    'gini', 'gini', 'gini', 'gini', 'gini', 'gini', 'gini',\n",
       "                    'gini', 'gini', 'gini', 'gini', 'gini', 'gini',\n",
       "                    'entropy', 'entropy', 'entropy', 'entropy', 'entropy',\n",
       "                    'entropy', 'entropy', 'entropy', 'entropy', 'entropy',\n",
       "                    'entropy', 'entropy', 'entropy', 'entropy', 'entropy',\n",
       "                    'entropy', 'entropy', 'entropy', 'entropy', 'entropy'],\n",
       "              mask=[False, False, False, False, False, False, False, False,\n",
       "                    False, False, False, False, False, False, False, False,\n",
       "                    False, False, False, False, False, False, False, False,\n",
       "                    False, False, False, False, False, False, False, False,\n",
       "                    False, False, False, False, False, False, False, False],\n",
       "        fill_value='?',\n",
       "             dtype=object),\n",
       " 'param_forest__max_features': masked_array(data=['sqrt', 'sqrt', 'sqrt', 'sqrt', 'sqrt', 'sqrt', 'sqrt',\n",
       "                    'sqrt', 'sqrt', 'sqrt', 'log2', 'log2', 'log2', 'log2',\n",
       "                    'log2', 'log2', 'log2', 'log2', 'log2', 'log2', 'sqrt',\n",
       "                    'sqrt', 'sqrt', 'sqrt', 'sqrt', 'sqrt', 'sqrt', 'sqrt',\n",
       "                    'sqrt', 'sqrt', 'log2', 'log2', 'log2', 'log2', 'log2',\n",
       "                    'log2', 'log2', 'log2', 'log2', 'log2'],\n",
       "              mask=[False, False, False, False, False, False, False, False,\n",
       "                    False, False, False, False, False, False, False, False,\n",
       "                    False, False, False, False, False, False, False, False,\n",
       "                    False, False, False, False, False, False, False, False,\n",
       "                    False, False, False, False, False, False, False, False],\n",
       "        fill_value='?',\n",
       "             dtype=object),\n",
       " 'param_forest__n_estimators': masked_array(data=[5, 15, 25, 35, 45, 55, 65, 75, 85, 95, 5, 15, 25, 35,\n",
       "                    45, 55, 65, 75, 85, 95, 5, 15, 25, 35, 45, 55, 65, 75,\n",
       "                    85, 95, 5, 15, 25, 35, 45, 55, 65, 75, 85, 95],\n",
       "              mask=[False, False, False, False, False, False, False, False,\n",
       "                    False, False, False, False, False, False, False, False,\n",
       "                    False, False, False, False, False, False, False, False,\n",
       "                    False, False, False, False, False, False, False, False,\n",
       "                    False, False, False, False, False, False, False, False],\n",
       "        fill_value='?',\n",
       "             dtype=object),\n",
       " 'params': [{'forest__criterion': 'gini',\n",
       "   'forest__max_features': 'sqrt',\n",
       "   'forest__n_estimators': 5},\n",
       "  {'forest__criterion': 'gini',\n",
       "   'forest__max_features': 'sqrt',\n",
       "   'forest__n_estimators': 15},\n",
       "  {'forest__criterion': 'gini',\n",
       "   'forest__max_features': 'sqrt',\n",
       "   'forest__n_estimators': 25},\n",
       "  {'forest__criterion': 'gini',\n",
       "   'forest__max_features': 'sqrt',\n",
       "   'forest__n_estimators': 35},\n",
       "  {'forest__criterion': 'gini',\n",
       "   'forest__max_features': 'sqrt',\n",
       "   'forest__n_estimators': 45},\n",
       "  {'forest__criterion': 'gini',\n",
       "   'forest__max_features': 'sqrt',\n",
       "   'forest__n_estimators': 55},\n",
       "  {'forest__criterion': 'gini',\n",
       "   'forest__max_features': 'sqrt',\n",
       "   'forest__n_estimators': 65},\n",
       "  {'forest__criterion': 'gini',\n",
       "   'forest__max_features': 'sqrt',\n",
       "   'forest__n_estimators': 75},\n",
       "  {'forest__criterion': 'gini',\n",
       "   'forest__max_features': 'sqrt',\n",
       "   'forest__n_estimators': 85},\n",
       "  {'forest__criterion': 'gini',\n",
       "   'forest__max_features': 'sqrt',\n",
       "   'forest__n_estimators': 95},\n",
       "  {'forest__criterion': 'gini',\n",
       "   'forest__max_features': 'log2',\n",
       "   'forest__n_estimators': 5},\n",
       "  {'forest__criterion': 'gini',\n",
       "   'forest__max_features': 'log2',\n",
       "   'forest__n_estimators': 15},\n",
       "  {'forest__criterion': 'gini',\n",
       "   'forest__max_features': 'log2',\n",
       "   'forest__n_estimators': 25},\n",
       "  {'forest__criterion': 'gini',\n",
       "   'forest__max_features': 'log2',\n",
       "   'forest__n_estimators': 35},\n",
       "  {'forest__criterion': 'gini',\n",
       "   'forest__max_features': 'log2',\n",
       "   'forest__n_estimators': 45},\n",
       "  {'forest__criterion': 'gini',\n",
       "   'forest__max_features': 'log2',\n",
       "   'forest__n_estimators': 55},\n",
       "  {'forest__criterion': 'gini',\n",
       "   'forest__max_features': 'log2',\n",
       "   'forest__n_estimators': 65},\n",
       "  {'forest__criterion': 'gini',\n",
       "   'forest__max_features': 'log2',\n",
       "   'forest__n_estimators': 75},\n",
       "  {'forest__criterion': 'gini',\n",
       "   'forest__max_features': 'log2',\n",
       "   'forest__n_estimators': 85},\n",
       "  {'forest__criterion': 'gini',\n",
       "   'forest__max_features': 'log2',\n",
       "   'forest__n_estimators': 95},\n",
       "  {'forest__criterion': 'entropy',\n",
       "   'forest__max_features': 'sqrt',\n",
       "   'forest__n_estimators': 5},\n",
       "  {'forest__criterion': 'entropy',\n",
       "   'forest__max_features': 'sqrt',\n",
       "   'forest__n_estimators': 15},\n",
       "  {'forest__criterion': 'entropy',\n",
       "   'forest__max_features': 'sqrt',\n",
       "   'forest__n_estimators': 25},\n",
       "  {'forest__criterion': 'entropy',\n",
       "   'forest__max_features': 'sqrt',\n",
       "   'forest__n_estimators': 35},\n",
       "  {'forest__criterion': 'entropy',\n",
       "   'forest__max_features': 'sqrt',\n",
       "   'forest__n_estimators': 45},\n",
       "  {'forest__criterion': 'entropy',\n",
       "   'forest__max_features': 'sqrt',\n",
       "   'forest__n_estimators': 55},\n",
       "  {'forest__criterion': 'entropy',\n",
       "   'forest__max_features': 'sqrt',\n",
       "   'forest__n_estimators': 65},\n",
       "  {'forest__criterion': 'entropy',\n",
       "   'forest__max_features': 'sqrt',\n",
       "   'forest__n_estimators': 75},\n",
       "  {'forest__criterion': 'entropy',\n",
       "   'forest__max_features': 'sqrt',\n",
       "   'forest__n_estimators': 85},\n",
       "  {'forest__criterion': 'entropy',\n",
       "   'forest__max_features': 'sqrt',\n",
       "   'forest__n_estimators': 95},\n",
       "  {'forest__criterion': 'entropy',\n",
       "   'forest__max_features': 'log2',\n",
       "   'forest__n_estimators': 5},\n",
       "  {'forest__criterion': 'entropy',\n",
       "   'forest__max_features': 'log2',\n",
       "   'forest__n_estimators': 15},\n",
       "  {'forest__criterion': 'entropy',\n",
       "   'forest__max_features': 'log2',\n",
       "   'forest__n_estimators': 25},\n",
       "  {'forest__criterion': 'entropy',\n",
       "   'forest__max_features': 'log2',\n",
       "   'forest__n_estimators': 35},\n",
       "  {'forest__criterion': 'entropy',\n",
       "   'forest__max_features': 'log2',\n",
       "   'forest__n_estimators': 45},\n",
       "  {'forest__criterion': 'entropy',\n",
       "   'forest__max_features': 'log2',\n",
       "   'forest__n_estimators': 55},\n",
       "  {'forest__criterion': 'entropy',\n",
       "   'forest__max_features': 'log2',\n",
       "   'forest__n_estimators': 65},\n",
       "  {'forest__criterion': 'entropy',\n",
       "   'forest__max_features': 'log2',\n",
       "   'forest__n_estimators': 75},\n",
       "  {'forest__criterion': 'entropy',\n",
       "   'forest__max_features': 'log2',\n",
       "   'forest__n_estimators': 85},\n",
       "  {'forest__criterion': 'entropy',\n",
       "   'forest__max_features': 'log2',\n",
       "   'forest__n_estimators': 95}],\n",
       " 'split0_test_score': array([0.96551724, 0.96551724, 0.96551724, 0.96551724, 0.96551724,\n",
       "        0.96551724, 0.96551724, 0.96551724, 0.96551724, 0.96551724,\n",
       "        0.96551724, 0.96551724, 0.96551724, 0.96551724, 0.96551724,\n",
       "        0.96551724, 0.96551724, 0.96551724, 0.96551724, 0.96551724,\n",
       "        0.93103448, 0.96551724, 0.96551724, 0.96551724, 0.93103448,\n",
       "        0.96551724, 0.96551724, 0.96551724, 0.96551724, 0.96551724,\n",
       "        0.96551724, 0.96551724, 0.93103448, 0.96551724, 0.96551724,\n",
       "        0.96551724, 0.96551724, 0.96551724, 0.96551724, 0.96551724]),\n",
       " 'split1_test_score': array([0.96551724, 0.96551724, 0.96551724, 1.        , 1.        ,\n",
       "        1.        , 1.        , 0.96551724, 1.        , 1.        ,\n",
       "        0.93103448, 1.        , 1.        , 0.93103448, 1.        ,\n",
       "        0.96551724, 1.        , 0.96551724, 1.        , 1.        ,\n",
       "        0.79310345, 0.93103448, 0.89655172, 0.93103448, 0.93103448,\n",
       "        1.        , 1.        , 1.        , 0.96551724, 0.96551724,\n",
       "        0.86206897, 0.96551724, 0.96551724, 0.93103448, 0.96551724,\n",
       "        0.93103448, 0.96551724, 0.93103448, 1.        , 0.96551724]),\n",
       " 'split2_test_score': array([0.85714286, 0.96428571, 0.92857143, 0.96428571, 0.92857143,\n",
       "        0.96428571, 0.96428571, 0.96428571, 0.96428571, 0.96428571,\n",
       "        0.92857143, 0.96428571, 0.96428571, 0.96428571, 0.96428571,\n",
       "        0.96428571, 0.96428571, 0.96428571, 0.96428571, 0.96428571,\n",
       "        0.92857143, 0.96428571, 0.96428571, 0.96428571, 0.96428571,\n",
       "        0.96428571, 0.96428571, 0.96428571, 0.96428571, 0.96428571,\n",
       "        0.96428571, 0.96428571, 0.96428571, 0.96428571, 0.96428571,\n",
       "        0.96428571, 0.96428571, 0.96428571, 0.96428571, 0.96428571]),\n",
       " 'split3_test_score': array([0.96428571, 1.        , 1.        , 1.        , 1.        ,\n",
       "        1.        , 1.        , 1.        , 1.        , 1.        ,\n",
       "        0.96428571, 1.        , 1.        , 1.        , 1.        ,\n",
       "        1.        , 1.        , 1.        , 1.        , 1.        ,\n",
       "        0.92857143, 1.        , 1.        , 1.        , 1.        ,\n",
       "        1.        , 1.        , 1.        , 1.        , 1.        ,\n",
       "        1.        , 1.        , 1.        , 1.        , 1.        ,\n",
       "        1.        , 1.        , 1.        , 1.        , 1.        ]),\n",
       " 'split4_test_score': array([0.89285714, 0.96428571, 0.96428571, 0.96428571, 0.96428571,\n",
       "        0.96428571, 0.96428571, 0.96428571, 0.96428571, 0.96428571,\n",
       "        0.96428571, 0.96428571, 0.96428571, 0.96428571, 0.96428571,\n",
       "        0.96428571, 0.96428571, 0.96428571, 0.96428571, 0.96428571,\n",
       "        0.92857143, 0.96428571, 0.96428571, 0.96428571, 1.        ,\n",
       "        1.        , 1.        , 0.96428571, 0.96428571, 1.        ,\n",
       "        1.        , 0.92857143, 0.96428571, 0.96428571, 0.96428571,\n",
       "        0.96428571, 0.96428571, 0.96428571, 0.96428571, 0.96428571]),\n",
       " 'mean_test_score': array([0.92906404, 0.97192118, 0.96477833, 0.97881773, 0.97167488,\n",
       "        0.97881773, 0.97881773, 0.97192118, 0.97881773, 0.97881773,\n",
       "        0.95073892, 0.97881773, 0.97881773, 0.96502463, 0.97881773,\n",
       "        0.97192118, 0.97881773, 0.97192118, 0.97881773, 0.97881773,\n",
       "        0.90197044, 0.96502463, 0.95812808, 0.96502463, 0.96527094,\n",
       "        0.98596059, 0.98596059, 0.97881773, 0.97192118, 0.97906404,\n",
       "        0.95837438, 0.96477833, 0.96502463, 0.96502463, 0.97192118,\n",
       "        0.96502463, 0.97192118, 0.96502463, 0.97881773, 0.97192118]),\n",
       " 'std_test_score': array([0.04556717, 0.01405021, 0.02259575, 0.01730109, 0.02666477,\n",
       "        0.01730109, 0.01730109, 0.01405021, 0.01730109, 0.01730109,\n",
       "        0.01711778, 0.01730109, 0.01730109, 0.02181716, 0.01730109,\n",
       "        0.01405021, 0.01730109, 0.01405021, 0.01730109, 0.01730109,\n",
       "        0.05444186, 0.02181716, 0.03369076, 0.02181716, 0.03084625,\n",
       "        0.0171991 , 0.0171991 , 0.01730109, 0.01405021, 0.01710005,\n",
       "        0.05064796, 0.02259575, 0.02181716, 0.02181716, 0.01405021,\n",
       "        0.02181716, 0.01405021, 0.02181716, 0.01730109, 0.01405021]),\n",
       " 'rank_test_score': array([39, 17, 34,  4, 25,  4,  4, 17,  4,  4, 38,  4,  4, 27,  4, 17,  4,\n",
       "        17,  4,  4, 40, 27, 37, 27, 26,  1,  1,  4, 17,  3, 36, 34, 27, 27,\n",
       "        17, 27, 17, 27,  4, 17], dtype=int32),\n",
       " 'split0_train_score': array([1.        , 1.        , 1.        , 1.        , 1.        ,\n",
       "        1.        , 1.        , 1.        , 1.        , 1.        ,\n",
       "        1.        , 1.        , 1.        , 1.        , 1.        ,\n",
       "        1.        , 1.        , 1.        , 1.        , 1.        ,\n",
       "        0.97345133, 1.        , 1.        , 1.        , 1.        ,\n",
       "        1.        , 1.        , 1.        , 1.        , 1.        ,\n",
       "        1.        , 1.        , 1.        , 1.        , 1.        ,\n",
       "        1.        , 1.        , 1.        , 1.        , 1.        ]),\n",
       " 'split1_train_score': array([0.99115044, 1.        , 1.        , 1.        , 1.        ,\n",
       "        1.        , 1.        , 1.        , 1.        , 1.        ,\n",
       "        0.99115044, 1.        , 1.        , 1.        , 1.        ,\n",
       "        1.        , 1.        , 1.        , 1.        , 1.        ,\n",
       "        0.98230088, 1.        , 1.        , 1.        , 1.        ,\n",
       "        1.        , 1.        , 1.        , 1.        , 1.        ,\n",
       "        0.98230088, 1.        , 1.        , 1.        , 1.        ,\n",
       "        1.        , 1.        , 1.        , 1.        , 1.        ]),\n",
       " 'split2_train_score': array([1.        , 1.        , 1.        , 1.        , 1.        ,\n",
       "        1.        , 1.        , 1.        , 1.        , 1.        ,\n",
       "        0.99122807, 1.        , 1.        , 1.        , 1.        ,\n",
       "        1.        , 1.        , 1.        , 1.        , 1.        ,\n",
       "        1.        , 1.        , 1.        , 1.        , 1.        ,\n",
       "        1.        , 1.        , 1.        , 1.        , 1.        ,\n",
       "        1.        , 1.        , 1.        , 1.        , 1.        ,\n",
       "        1.        , 1.        , 1.        , 1.        , 1.        ]),\n",
       " 'split3_train_score': array([0.98245614, 1.        , 1.        , 1.        , 1.        ,\n",
       "        1.        , 1.        , 1.        , 1.        , 1.        ,\n",
       "        0.99122807, 1.        , 1.        , 1.        , 1.        ,\n",
       "        1.        , 1.        , 1.        , 1.        , 1.        ,\n",
       "        1.        , 0.99122807, 1.        , 1.        , 1.        ,\n",
       "        1.        , 1.        , 1.        , 1.        , 1.        ,\n",
       "        0.99122807, 0.99122807, 1.        , 1.        , 1.        ,\n",
       "        1.        , 1.        , 1.        , 1.        , 1.        ]),\n",
       " 'split4_train_score': array([1.        , 1.        , 1.        , 1.        , 1.        ,\n",
       "        1.        , 1.        , 1.        , 1.        , 1.        ,\n",
       "        1.        , 1.        , 1.        , 1.        , 1.        ,\n",
       "        1.        , 1.        , 1.        , 1.        , 1.        ,\n",
       "        0.99122807, 1.        , 1.        , 1.        , 1.        ,\n",
       "        1.        , 1.        , 1.        , 1.        , 1.        ,\n",
       "        1.        , 1.        , 1.        , 1.        , 1.        ,\n",
       "        1.        , 1.        , 1.        , 1.        , 1.        ]),\n",
       " 'mean_train_score': array([0.99472132, 1.        , 1.        , 1.        , 1.        ,\n",
       "        1.        , 1.        , 1.        , 1.        , 1.        ,\n",
       "        0.99472132, 1.        , 1.        , 1.        , 1.        ,\n",
       "        1.        , 1.        , 1.        , 1.        , 1.        ,\n",
       "        0.98939606, 0.99824561, 1.        , 1.        , 1.        ,\n",
       "        1.        , 1.        , 1.        , 1.        , 1.        ,\n",
       "        0.99470579, 0.99824561, 1.        , 1.        , 1.        ,\n",
       "        1.        , 1.        , 1.        , 1.        , 1.        ]),\n",
       " 'std_train_score': array([0.00702537, 0.        , 0.        , 0.        , 0.        ,\n",
       "        0.        , 0.        , 0.        , 0.        , 0.        ,\n",
       "        0.00431012, 0.        , 0.        , 0.        , 0.        ,\n",
       "        0.        , 0.        , 0.        , 0.        , 0.        ,\n",
       "        0.01032298, 0.00350877, 0.        , 0.        , 0.        ,\n",
       "        0.        , 0.        , 0.        , 0.        , 0.        ,\n",
       "        0.00707195, 0.00350877, 0.        , 0.        , 0.        ,\n",
       "        0.        , 0.        , 0.        , 0.        , 0.        ])}"
      ]
     },
     "execution_count": 34,
     "metadata": {},
     "output_type": "execute_result"
    }
   ],
   "source": [
    "%%time\n",
    "search.fit(X_train, y_train)\n",
    "search.cv_results_"
   ]
  },
  {
   "cell_type": "code",
   "execution_count": 35,
   "metadata": {
    "scrolled": true
   },
   "outputs": [
    {
     "data": {
      "text/plain": [
       "array([0.92906404, 0.97192118, 0.96477833, 0.97881773, 0.97167488,\n",
       "       0.97881773, 0.97881773, 0.97192118, 0.97881773, 0.97881773,\n",
       "       0.95073892, 0.97881773, 0.97881773, 0.96502463, 0.97881773,\n",
       "       0.97192118, 0.97881773, 0.97192118, 0.97881773, 0.97881773,\n",
       "       0.90197044, 0.96502463, 0.95812808, 0.96502463, 0.96527094,\n",
       "       0.98596059, 0.98596059, 0.97881773, 0.97192118, 0.97906404,\n",
       "       0.95837438, 0.96477833, 0.96502463, 0.96502463, 0.97192118,\n",
       "       0.96502463, 0.97192118, 0.96502463, 0.97881773, 0.97192118])"
      ]
     },
     "execution_count": 35,
     "metadata": {},
     "output_type": "execute_result"
    }
   ],
   "source": [
    "search.cv_results_.get('mean_test_score')"
   ]
  },
  {
   "cell_type": "code",
   "execution_count": 36,
   "metadata": {},
   "outputs": [
    {
     "data": {
      "text/plain": [
       "array([0.99472132, 1.        , 1.        , 1.        , 1.        ,\n",
       "       1.        , 1.        , 1.        , 1.        , 1.        ,\n",
       "       0.99472132, 1.        , 1.        , 1.        , 1.        ,\n",
       "       1.        , 1.        , 1.        , 1.        , 1.        ,\n",
       "       0.98939606, 0.99824561, 1.        , 1.        , 1.        ,\n",
       "       1.        , 1.        , 1.        , 1.        , 1.        ,\n",
       "       0.99470579, 0.99824561, 1.        , 1.        , 1.        ,\n",
       "       1.        , 1.        , 1.        , 1.        , 1.        ])"
      ]
     },
     "execution_count": 36,
     "metadata": {},
     "output_type": "execute_result"
    }
   ],
   "source": [
    "search.cv_results_.get('mean_train_score')"
   ]
  },
  {
   "cell_type": "code",
   "execution_count": 37,
   "metadata": {},
   "outputs": [
    {
     "data": {
      "text/plain": [
       "{'forest__criterion': 'entropy',\n",
       " 'forest__max_features': 'sqrt',\n",
       " 'forest__n_estimators': 55}"
      ]
     },
     "execution_count": 37,
     "metadata": {},
     "output_type": "execute_result"
    }
   ],
   "source": [
    "search.best_params_"
   ]
  },
  {
   "cell_type": "code",
   "execution_count": 38,
   "metadata": {},
   "outputs": [
    {
     "data": {
      "text/plain": [
       "Pipeline(memory=None,\n",
       "         steps=[('forest',\n",
       "                 RandomForestClassifier(bootstrap=True, ccp_alpha=0.0,\n",
       "                                        class_weight=None, criterion='entropy',\n",
       "                                        max_depth=None, max_features='sqrt',\n",
       "                                        max_leaf_nodes=None, max_samples=None,\n",
       "                                        min_impurity_decrease=0.0,\n",
       "                                        min_impurity_split=None,\n",
       "                                        min_samples_leaf=1, min_samples_split=2,\n",
       "                                        min_weight_fraction_leaf=0.0,\n",
       "                                        n_estimators=55, n_jobs=None,\n",
       "                                        oob_score=False, random_state=None,\n",
       "                                        verbose=0, warm_start=False))],\n",
       "         verbose=False)"
      ]
     },
     "execution_count": 38,
     "metadata": {},
     "output_type": "execute_result"
    }
   ],
   "source": [
    "search.best_estimator_"
   ]
  },
  {
   "cell_type": "code",
   "execution_count": 39,
   "metadata": {
    "scrolled": false
   },
   "outputs": [
    {
     "name": "stdout",
     "output_type": "stream",
     "text": [
      "              precision    recall  f1-score   support\n",
      "\n",
      "         0.0       1.00      1.00      1.00        13\n",
      "         1.0       1.00      1.00      1.00        14\n",
      "         2.0       1.00      1.00      1.00         9\n",
      "\n",
      "    accuracy                           1.00        36\n",
      "   macro avg       1.00      1.00      1.00        36\n",
      "weighted avg       1.00      1.00      1.00        36\n",
      "\n"
     ]
    },
    {
     "data": {
      "text/plain": [
       "<matplotlib.axes._subplots.AxesSubplot at 0x146c5c130>"
      ]
     },
     "execution_count": 39,
     "metadata": {},
     "output_type": "execute_result"
    },
    {
     "data": {
      "image/png": "[encoded data removed]",
      "text/plain": [
       "<Figure size 432x288 with 1 Axes>"
      ]
     },
     "metadata": {
      "needs_background": "light"
     },
     "output_type": "display_data"
    }
   ],
   "source": [
    "y_pred = search.predict(X_test)\n",
    "print(classification_report(y_test, y_pred))\n",
    "\n",
    "cfm = confusion_matrix( y_test, y_pred )\n",
    "sns.heatmap(cfm, cbar=False, annot=True, cmap=\"Blues\", fmt=\"d\")"
   ]
  },
  {
   "cell_type": "markdown",
   "metadata": {},
   "source": [
    "### And now using Random Search CV"
   ]
  },
  {
   "cell_type": "code",
   "execution_count": 40,
   "metadata": {},
   "outputs": [],
   "source": [
    "from sklearn.ensemble import RandomForestClassifier\n",
    "from sklearn.model_selection import RandomizedSearchCV\n",
    "from sklearn.pipeline import Pipeline\n",
    "\n",
    "search_paramns = [{\n",
    "    'forest__n_estimators': list(range(5,100,10)), \n",
    "    'forest__criterion': [\"gini\", \"entropy\"],\n",
    "    'forest__max_features': [\"sqrt\", \"log2\"],\n",
    "}]\n",
    "\n",
    "pipe = Pipeline([\n",
    "    ('forest', RandomForestClassifier())\n",
    "])\n",
    "\n",
    "search = RandomizedSearchCV(pipe,\n",
    "                     search_paramns,\n",
    "                     cv=5,\n",
    "                     return_train_score=True,\n",
    "                     random_state=42)\n",
    "\n",
    "X_train, X_test, y_train, y_test = train_test_split(X, y, test_size=0.2)"
   ]
  },
  {
   "cell_type": "code",
   "execution_count": 41,
   "metadata": {
    "scrolled": true
   },
   "outputs": [
    {
     "name": "stdout",
     "output_type": "stream",
     "text": [
      "CPU times: user 4.01 s, sys: 16.7 ms, total: 4.03 s\n",
      "Wall time: 4.03 s\n"
     ]
    },
    {
     "data": {
      "text/plain": [
       "{'mean_fit_time': array([0.0956872 , 0.06600575, 0.05844712, 0.06461201, 0.04414234,\n",
       "        0.0254096 , 0.07335596, 0.07672977, 0.10352173, 0.06631169]),\n",
       " 'std_fit_time': array([0.00664779, 0.00179311, 0.00308694, 0.00180553, 0.00048743,\n",
       "        0.00129657, 0.00072665, 0.00528102, 0.00290182, 0.00180704]),\n",
       " 'mean_score_time': array([0.00702162, 0.00506582, 0.00451827, 0.00499039, 0.00349679,\n",
       "        0.00232425, 0.00574222, 0.00595107, 0.00746832, 0.00508976]),\n",
       " 'std_score_time': array([5.38986431e-04, 3.08793743e-04, 2.16410221e-04, 2.85757469e-04,\n",
       "        4.55444641e-05, 8.58112949e-05, 5.61255780e-04, 5.21491549e-04,\n",
       "        2.61666084e-04, 3.98804319e-04]),\n",
       " 'param_forest__n_estimators': masked_array(data=[95, 65, 55, 65, 45, 25, 75, 75, 95, 65],\n",
       "              mask=[False, False, False, False, False, False, False, False,\n",
       "                    False, False],\n",
       "        fill_value='?',\n",
       "             dtype=object),\n",
       " 'param_forest__max_features': masked_array(data=['log2', 'log2', 'log2', 'sqrt', 'sqrt', 'log2', 'log2',\n",
       "                    'sqrt', 'log2', 'sqrt'],\n",
       "              mask=[False, False, False, False, False, False, False, False,\n",
       "                    False, False],\n",
       "        fill_value='?',\n",
       "             dtype=object),\n",
       " 'param_forest__criterion': masked_array(data=['gini', 'gini', 'gini', 'entropy', 'gini', 'gini',\n",
       "                    'entropy', 'entropy', 'entropy', 'gini'],\n",
       "              mask=[False, False, False, False, False, False, False, False,\n",
       "                    False, False],\n",
       "        fill_value='?',\n",
       "             dtype=object),\n",
       " 'params': [{'forest__n_estimators': 95,\n",
       "   'forest__max_features': 'log2',\n",
       "   'forest__criterion': 'gini'},\n",
       "  {'forest__n_estimators': 65,\n",
       "   'forest__max_features': 'log2',\n",
       "   'forest__criterion': 'gini'},\n",
       "  {'forest__n_estimators': 55,\n",
       "   'forest__max_features': 'log2',\n",
       "   'forest__criterion': 'gini'},\n",
       "  {'forest__n_estimators': 65,\n",
       "   'forest__max_features': 'sqrt',\n",
       "   'forest__criterion': 'entropy'},\n",
       "  {'forest__n_estimators': 45,\n",
       "   'forest__max_features': 'sqrt',\n",
       "   'forest__criterion': 'gini'},\n",
       "  {'forest__n_estimators': 25,\n",
       "   'forest__max_features': 'log2',\n",
       "   'forest__criterion': 'gini'},\n",
       "  {'forest__n_estimators': 75,\n",
       "   'forest__max_features': 'log2',\n",
       "   'forest__criterion': 'entropy'},\n",
       "  {'forest__n_estimators': 75,\n",
       "   'forest__max_features': 'sqrt',\n",
       "   'forest__criterion': 'entropy'},\n",
       "  {'forest__n_estimators': 95,\n",
       "   'forest__max_features': 'log2',\n",
       "   'forest__criterion': 'entropy'},\n",
       "  {'forest__n_estimators': 65,\n",
       "   'forest__max_features': 'sqrt',\n",
       "   'forest__criterion': 'gini'}],\n",
       " 'split0_test_score': array([0.96551724, 0.96551724, 0.96551724, 0.96551724, 1.        ,\n",
       "        0.93103448, 0.96551724, 0.96551724, 0.96551724, 0.96551724]),\n",
       " 'split1_test_score': array([1., 1., 1., 1., 1., 1., 1., 1., 1., 1.]),\n",
       " 'split2_test_score': array([1., 1., 1., 1., 1., 1., 1., 1., 1., 1.]),\n",
       " 'split3_test_score': array([0.96428571, 0.96428571, 0.92857143, 0.96428571, 0.96428571,\n",
       "        0.96428571, 0.96428571, 0.96428571, 0.96428571, 0.96428571]),\n",
       " 'split4_test_score': array([1.        , 1.        , 0.92857143, 1.        , 0.96428571,\n",
       "        0.96428571, 0.92857143, 1.        , 1.        , 0.96428571]),\n",
       " 'mean_test_score': array([0.98596059, 0.98596059, 0.96453202, 0.98596059, 0.98571429,\n",
       "        0.97192118, 0.97167488, 0.98596059, 0.98596059, 0.97881773]),\n",
       " 'std_test_score': array([0.0171991 , 0.0171991 , 0.03194763, 0.0171991 , 0.01749636,\n",
       "        0.02594287, 0.02666477, 0.0171991 , 0.0171991 , 0.01730109]),\n",
       " 'rank_test_score': array([ 1,  1, 10,  1,  6,  8,  9,  1,  1,  7], dtype=int32),\n",
       " 'split0_train_score': array([1., 1., 1., 1., 1., 1., 1., 1., 1., 1.]),\n",
       " 'split1_train_score': array([1., 1., 1., 1., 1., 1., 1., 1., 1., 1.]),\n",
       " 'split2_train_score': array([1., 1., 1., 1., 1., 1., 1., 1., 1., 1.]),\n",
       " 'split3_train_score': array([1., 1., 1., 1., 1., 1., 1., 1., 1., 1.]),\n",
       " 'split4_train_score': array([1., 1., 1., 1., 1., 1., 1., 1., 1., 1.]),\n",
       " 'mean_train_score': array([1., 1., 1., 1., 1., 1., 1., 1., 1., 1.]),\n",
       " 'std_train_score': array([0., 0., 0., 0., 0., 0., 0., 0., 0., 0.])}"
      ]
     },
     "execution_count": 41,
     "metadata": {},
     "output_type": "execute_result"
    }
   ],
   "source": [
    "%%time\n",
    "search.fit(X_train, y_train)\n",
    "search.cv_results_"
   ]
  },
  {
   "cell_type": "code",
   "execution_count": 42,
   "metadata": {},
   "outputs": [
    {
     "data": {
      "text/plain": [
       "array([0.98596059, 0.98596059, 0.96453202, 0.98596059, 0.98571429,\n",
       "       0.97192118, 0.97167488, 0.98596059, 0.98596059, 0.97881773])"
      ]
     },
     "execution_count": 42,
     "metadata": {},
     "output_type": "execute_result"
    }
   ],
   "source": [
    "search.cv_results_.get('mean_test_score')"
   ]
  },
  {
   "cell_type": "code",
   "execution_count": 43,
   "metadata": {},
   "outputs": [
    {
     "data": {
      "text/plain": [
       "array([1., 1., 1., 1., 1., 1., 1., 1., 1., 1.])"
      ]
     },
     "execution_count": 43,
     "metadata": {},
     "output_type": "execute_result"
    }
   ],
   "source": [
    "search.cv_results_.get('mean_train_score')"
   ]
  },
  {
   "cell_type": "code",
   "execution_count": 44,
   "metadata": {},
   "outputs": [
    {
     "data": {
      "text/plain": [
       "{'forest__n_estimators': 95,\n",
       " 'forest__max_features': 'log2',\n",
       " 'forest__criterion': 'gini'}"
      ]
     },
     "execution_count": 44,
     "metadata": {},
     "output_type": "execute_result"
    }
   ],
   "source": [
    "search.best_params_"
   ]
  },
  {
   "cell_type": "code",
   "execution_count": 45,
   "metadata": {},
   "outputs": [
    {
     "data": {
      "text/plain": [
       "Pipeline(memory=None,\n",
       "         steps=[('forest',\n",
       "                 RandomForestClassifier(bootstrap=True, ccp_alpha=0.0,\n",
       "                                        class_weight=None, criterion='gini',\n",
       "                                        max_depth=None, max_features='log2',\n",
       "                                        max_leaf_nodes=None, max_samples=None,\n",
       "                                        min_impurity_decrease=0.0,\n",
       "                                        min_impurity_split=None,\n",
       "                                        min_samples_leaf=1, min_samples_split=2,\n",
       "                                        min_weight_fraction_leaf=0.0,\n",
       "                                        n_estimators=95, n_jobs=None,\n",
       "                                        oob_score=False, random_state=None,\n",
       "                                        verbose=0, warm_start=False))],\n",
       "         verbose=False)"
      ]
     },
     "execution_count": 45,
     "metadata": {},
     "output_type": "execute_result"
    }
   ],
   "source": [
    "search.best_estimator_"
   ]
  },
  {
   "cell_type": "code",
   "execution_count": 46,
   "metadata": {
    "scrolled": false
   },
   "outputs": [
    {
     "name": "stdout",
     "output_type": "stream",
     "text": [
      "              precision    recall  f1-score   support\n",
      "\n",
      "         0.0       1.00      1.00      1.00        11\n",
      "         1.0       1.00      0.93      0.97        15\n",
      "         2.0       0.91      1.00      0.95        10\n",
      "\n",
      "    accuracy                           0.97        36\n",
      "   macro avg       0.97      0.98      0.97        36\n",
      "weighted avg       0.97      0.97      0.97        36\n",
      "\n"
     ]
    },
    {
     "data": {
      "text/plain": [
       "<matplotlib.axes._subplots.AxesSubplot at 0x146e2b3d0>"
      ]
     },
     "execution_count": 46,
     "metadata": {},
     "output_type": "execute_result"
    },
    {
     "data": {
      "image/png": "[encoded data removed]",
      "text/plain": [
       "<Figure size 432x288 with 1 Axes>"
      ]
     },
     "metadata": {
      "needs_background": "light"
     },
     "output_type": "display_data"
    }
   ],
   "source": [
    "y_pred = search.predict(X_test)\n",
    "print(classification_report(y_test, y_pred))\n",
    "\n",
    "cfm = confusion_matrix( y_test, y_pred )\n",
    "sns.heatmap(cfm, cbar=False, annot=True, cmap=\"Blues\", fmt=\"d\")"
   ]
  },
  {
   "cell_type": "code",
   "execution_count": null,
   "metadata": {},
   "outputs": [],
   "source": []
  }
 ],
 "metadata": {
  "kernelspec": {
   "display_name": "Python 3",
   "language": "python",
   "name": "python3"
  },
  "language_info": {
   "codemirror_mode": {
    "name": "ipython",
    "version": 3
   },
   "file_extension": ".py",
   "mimetype": "text/x-python",
   "name": "python",
   "nbconvert_exporter": "python",
   "pygments_lexer": "ipython3",
   "version": "3.8.0"
  }
 },
 "nbformat": 4,
 "nbformat_minor": 2
}
